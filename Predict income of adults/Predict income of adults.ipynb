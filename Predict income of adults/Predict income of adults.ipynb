{
 "cells": [
  {
   "cell_type": "markdown",
   "metadata": {},
   "source": [
    "# CISC 6930 Data Mining\n",
    "## Homework 3 (36 points)\n",
    "### Yifan Ren"
   ]
  },
  {
   "cell_type": "markdown",
   "metadata": {},
   "source": [
    "### 1. Read the adult.names file and study the raw. Understanding the domain is a key step in data mining. Write down three issues or hypotheses that you would ideally like to investigate. As one example, you could switch the class variable to “sex” and try to predict that variable from the rest of the variables. You can also consider other things, such as strategies for preprocessing the data to possibly improve predictive performance. In short, come up with three issues/strategies that you might be interesting in following up on (6 points)."
   ]
  },
  {
   "cell_type": "markdown",
   "metadata": {},
   "source": [
    "    1)It is interesting to switch the class variable to “Marital-status” so that we could predict an individual’s marital status based on other features."
   ]
  },
  {
   "cell_type": "markdown",
   "metadata": {},
   "source": [
    "    2) The variable of “workclass” is also a good target class to be predicted using the rest of the variables."
   ]
  },
  {
   "cell_type": "markdown",
   "metadata": {},
   "source": [
    "    3)\tAs the “adult.names” showed, there are 3620 rows of data with missing value showed as ”?” and 6 duplicate or conflicting instances.\n",
    "        In order to handle preprocessing conveniently and create our own partitions, the original partitions of datasets would be ignored and the two datasets could be combined together."
   ]
  },
  {
   "cell_type": "code",
   "execution_count": 1,
   "metadata": {},
   "outputs": [],
   "source": [
    "import pandas as pd\n",
    "col_names = [\"age\",\"workclass\",\"fnlwgt\",\"education\",\"education-num\",\"marital-status\",\"occupation\",\n",
    "            \"relationship\",\"race\",\"sex\",\"capital-gain\",\"capital-loss\",\"hours-per-week\",\"native-country\",\"income\"]\n",
    "df_1 = pd.read_csv(\"adult.data\",names=col_names,index_col=False)\n",
    "df_2 = pd.read_csv(\"adult.test\",names=col_names,index_col=False)\n",
    "df = pd.concat([df_1,df_2],ignore_index=True)"
   ]
  },
  {
   "cell_type": "markdown",
   "metadata": {},
   "source": [
    "    The examples of merged dataset are showed below"
   ]
  },
  {
   "cell_type": "code",
   "execution_count": 2,
   "metadata": {
    "scrolled": true
   },
   "outputs": [
    {
     "data": {
      "text/html": [
       "<div>\n",
       "<style scoped>\n",
       "    .dataframe tbody tr th:only-of-type {\n",
       "        vertical-align: middle;\n",
       "    }\n",
       "\n",
       "    .dataframe tbody tr th {\n",
       "        vertical-align: top;\n",
       "    }\n",
       "\n",
       "    .dataframe thead th {\n",
       "        text-align: right;\n",
       "    }\n",
       "</style>\n",
       "<table border=\"1\" class=\"dataframe\">\n",
       "  <thead>\n",
       "    <tr style=\"text-align: right;\">\n",
       "      <th></th>\n",
       "      <th>age</th>\n",
       "      <th>workclass</th>\n",
       "      <th>fnlwgt</th>\n",
       "      <th>education</th>\n",
       "      <th>education-num</th>\n",
       "      <th>marital-status</th>\n",
       "      <th>occupation</th>\n",
       "      <th>relationship</th>\n",
       "      <th>race</th>\n",
       "      <th>sex</th>\n",
       "      <th>capital-gain</th>\n",
       "      <th>capital-loss</th>\n",
       "      <th>hours-per-week</th>\n",
       "      <th>native-country</th>\n",
       "      <th>income</th>\n",
       "    </tr>\n",
       "  </thead>\n",
       "  <tbody>\n",
       "    <tr>\n",
       "      <th>48837</th>\n",
       "      <td>39</td>\n",
       "      <td>Private</td>\n",
       "      <td>215419</td>\n",
       "      <td>Bachelors</td>\n",
       "      <td>13</td>\n",
       "      <td>Divorced</td>\n",
       "      <td>Prof-specialty</td>\n",
       "      <td>Not-in-family</td>\n",
       "      <td>White</td>\n",
       "      <td>Female</td>\n",
       "      <td>0</td>\n",
       "      <td>0</td>\n",
       "      <td>36</td>\n",
       "      <td>United-States</td>\n",
       "      <td>&lt;=50K.</td>\n",
       "    </tr>\n",
       "    <tr>\n",
       "      <th>48838</th>\n",
       "      <td>64</td>\n",
       "      <td>?</td>\n",
       "      <td>321403</td>\n",
       "      <td>HS-grad</td>\n",
       "      <td>9</td>\n",
       "      <td>Widowed</td>\n",
       "      <td>?</td>\n",
       "      <td>Other-relative</td>\n",
       "      <td>Black</td>\n",
       "      <td>Male</td>\n",
       "      <td>0</td>\n",
       "      <td>0</td>\n",
       "      <td>40</td>\n",
       "      <td>United-States</td>\n",
       "      <td>&lt;=50K.</td>\n",
       "    </tr>\n",
       "    <tr>\n",
       "      <th>48839</th>\n",
       "      <td>38</td>\n",
       "      <td>Private</td>\n",
       "      <td>374983</td>\n",
       "      <td>Bachelors</td>\n",
       "      <td>13</td>\n",
       "      <td>Married-civ-spouse</td>\n",
       "      <td>Prof-specialty</td>\n",
       "      <td>Husband</td>\n",
       "      <td>White</td>\n",
       "      <td>Male</td>\n",
       "      <td>0</td>\n",
       "      <td>0</td>\n",
       "      <td>50</td>\n",
       "      <td>United-States</td>\n",
       "      <td>&lt;=50K.</td>\n",
       "    </tr>\n",
       "    <tr>\n",
       "      <th>48840</th>\n",
       "      <td>44</td>\n",
       "      <td>Private</td>\n",
       "      <td>83891</td>\n",
       "      <td>Bachelors</td>\n",
       "      <td>13</td>\n",
       "      <td>Divorced</td>\n",
       "      <td>Adm-clerical</td>\n",
       "      <td>Own-child</td>\n",
       "      <td>Asian-Pac-Islander</td>\n",
       "      <td>Male</td>\n",
       "      <td>5455</td>\n",
       "      <td>0</td>\n",
       "      <td>40</td>\n",
       "      <td>United-States</td>\n",
       "      <td>&lt;=50K.</td>\n",
       "    </tr>\n",
       "    <tr>\n",
       "      <th>48841</th>\n",
       "      <td>35</td>\n",
       "      <td>Self-emp-inc</td>\n",
       "      <td>182148</td>\n",
       "      <td>Bachelors</td>\n",
       "      <td>13</td>\n",
       "      <td>Married-civ-spouse</td>\n",
       "      <td>Exec-managerial</td>\n",
       "      <td>Husband</td>\n",
       "      <td>White</td>\n",
       "      <td>Male</td>\n",
       "      <td>0</td>\n",
       "      <td>0</td>\n",
       "      <td>60</td>\n",
       "      <td>United-States</td>\n",
       "      <td>&gt;50K.</td>\n",
       "    </tr>\n",
       "  </tbody>\n",
       "</table>\n",
       "</div>"
      ],
      "text/plain": [
       "       age      workclass  fnlwgt   education  education-num  \\\n",
       "48837   39        Private  215419   Bachelors             13   \n",
       "48838   64              ?  321403     HS-grad              9   \n",
       "48839   38        Private  374983   Bachelors             13   \n",
       "48840   44        Private   83891   Bachelors             13   \n",
       "48841   35   Self-emp-inc  182148   Bachelors             13   \n",
       "\n",
       "            marital-status        occupation     relationship  \\\n",
       "48837             Divorced    Prof-specialty    Not-in-family   \n",
       "48838              Widowed                 ?   Other-relative   \n",
       "48839   Married-civ-spouse    Prof-specialty          Husband   \n",
       "48840             Divorced      Adm-clerical        Own-child   \n",
       "48841   Married-civ-spouse   Exec-managerial          Husband   \n",
       "\n",
       "                      race      sex  capital-gain  capital-loss  \\\n",
       "48837                White   Female             0             0   \n",
       "48838                Black     Male             0             0   \n",
       "48839                White     Male             0             0   \n",
       "48840   Asian-Pac-Islander     Male          5455             0   \n",
       "48841                White     Male             0             0   \n",
       "\n",
       "       hours-per-week  native-country   income  \n",
       "48837              36   United-States   <=50K.  \n",
       "48838              40   United-States   <=50K.  \n",
       "48839              50   United-States   <=50K.  \n",
       "48840              40   United-States   <=50K.  \n",
       "48841              60   United-States    >50K.  "
      ]
     },
     "execution_count": 2,
     "metadata": {},
     "output_type": "execute_result"
    }
   ],
   "source": [
    "df.tail()"
   ]
  },
  {
   "cell_type": "markdown",
   "metadata": {},
   "source": [
    "    Given the description about the feature of \"fnlwgt\" in \"adult.names\", the feature is unnecessary for us to make predictions. Hence, it will be removed."
   ]
  },
  {
   "cell_type": "code",
   "execution_count": 3,
   "metadata": {},
   "outputs": [],
   "source": [
    "df.drop(\"fnlwgt\",axis=1,inplace=True)"
   ]
  },
  {
   "cell_type": "markdown",
   "metadata": {},
   "source": [
    "    Beacuse the missing value were showed as ”?”, so we have to convert them to NaN values. However, many values are having space in the cell, so we have to remove them firstly and then convert the \"?\"."
   ]
  },
  {
   "cell_type": "code",
   "execution_count": 4,
   "metadata": {},
   "outputs": [],
   "source": [
    "import numpy as np\n",
    "df = df.apply(lambda x: x.str.strip() if x.dtype == \"object\" else x)\n",
    "for i in df.columns.values.tolist():\n",
    "    df[i] = df[i].map(lambda x: np.nan if x==\"?\"  else x)"
   ]
  },
  {
   "cell_type": "code",
   "execution_count": 5,
   "metadata": {},
   "outputs": [
    {
     "name": "stdout",
     "output_type": "stream",
     "text": [
      "    The number of missing values is 3620 and of duplicate instances is 4487.\n"
     ]
    }
   ],
   "source": [
    "#Check the number of missing values and duplicate instances\n",
    "print(\"    The number of missing values is {} and\".format(df[df.isnull().T.any()].shape[0]),\n",
    "\"of duplicate instances is {}.\".format(df[df.duplicated()].shape[0]))"
   ]
  },
  {
   "cell_type": "markdown",
   "metadata": {},
   "source": [
    "    It looks like that the number of missing values was the same as it in our data, but the number of duplicate instances is different. Our result showed there are 29 duplicate instances actually.\n",
    "    The missing value will be replaced with the mode value of in the column, because all the values of columns with missing value were categorical. \n",
    "    As the number of duplicate instances is different from the number was showed in “adult.names”, those duplicate instances will be retained to avoid unpredictable accident."
   ]
  },
  {
   "cell_type": "code",
   "execution_count": 6,
   "metadata": {},
   "outputs": [],
   "source": [
    "for col in [\"workclass\",\"occupation\",\"native-country\"]: df[col].fillna(df[col].mode()[0],inplace=True)"
   ]
  },
  {
   "cell_type": "code",
   "execution_count": 7,
   "metadata": {},
   "outputs": [
    {
     "name": "stdout",
     "output_type": "stream",
     "text": [
      "<class 'pandas.core.frame.DataFrame'>\n",
      "RangeIndex: 48842 entries, 0 to 48841\n",
      "Data columns (total 14 columns):\n",
      "age               48842 non-null int64\n",
      "workclass         48842 non-null object\n",
      "education         48842 non-null object\n",
      "education-num     48842 non-null int64\n",
      "marital-status    48842 non-null object\n",
      "occupation        48842 non-null object\n",
      "relationship      48842 non-null object\n",
      "race              48842 non-null object\n",
      "sex               48842 non-null object\n",
      "capital-gain      48842 non-null int64\n",
      "capital-loss      48842 non-null int64\n",
      "hours-per-week    48842 non-null int64\n",
      "native-country    48842 non-null object\n",
      "income            48842 non-null object\n",
      "dtypes: int64(5), object(9)\n",
      "memory usage: 5.2+ MB\n"
     ]
    }
   ],
   "source": [
    "#Let's check the dataset again.\n",
    "df.info()"
   ]
  },
  {
   "cell_type": "markdown",
   "metadata": {},
   "source": [
    "    Now, all the missing value had been solved, but there are some special characters like dots which will affect our work, so those characters should be removed as well."
   ]
  },
  {
   "cell_type": "code",
   "execution_count": 8,
   "metadata": {},
   "outputs": [],
   "source": [
    "for col in df.columns:\n",
    "    if df[col].dtype != 'int64':\n",
    "        df[col] = df[col].apply(lambda val: val.replace(\".\", \"\"))"
   ]
  },
  {
   "cell_type": "markdown",
   "metadata": {},
   "source": [
    "## 2. Apply a decision tree classifier using the default parameters to the adult dataset, with the goal of predicting the class variable. If using WEKA, use the J48 classifier and if using Python use one of the decision tree classifiers. You should partition the data so that 2/3 is used for training and 1/3 used for testing. Answer the following questions (6 points):"
   ]
  },
  {
   "cell_type": "markdown",
   "metadata": {},
   "source": [
    "    In order to use sklearn.tree.DecisionTreeClassifier to bulid a tree classifier well, firstly we need to to conver our categorical variables to continuous variables. The tool of LableEncoder is used here to finish the convertion."
   ]
  },
  {
   "cell_type": "code",
   "execution_count": 9,
   "metadata": {},
   "outputs": [],
   "source": [
    "from sklearn.preprocessing import LabelEncoder\n",
    "from sklearn_pandas import DataFrameMapper\n",
    "mapper = DataFrameMapper([('workclass', LabelEncoder()),('education', LabelEncoder()),\n",
    "                          ('marital-status', LabelEncoder()),('occupation', LabelEncoder()),\n",
    "                          ('relationship', LabelEncoder()),('race', LabelEncoder()),\n",
    "                          ('sex', LabelEncoder()),('native-country', LabelEncoder()),('income', LabelEncoder())],\n",
    "                         df_out=True, default=None)"
   ]
  },
  {
   "cell_type": "markdown",
   "metadata": {},
   "source": [
    "    And then, we should split our dataset into training set and testing set separately so that 2/3 is used for training and 1/3 used for testing."
   ]
  },
  {
   "cell_type": "code",
   "execution_count": 10,
   "metadata": {},
   "outputs": [],
   "source": [
    "from sklearn.model_selection import train_test_split\n",
    "\n",
    "df_copy = mapper.fit_transform(df.copy())\n",
    "\n",
    "cols = df_copy.columns.values.tolist()\n",
    "cols_t = [\"income\"]\n",
    "cols.remove(cols_t[0])\n",
    "\n",
    "train_data,test_data,train_target,test_target = train_test_split(df_copy[cols], df_copy[cols_t], test_size = (1/3))"
   ]
  },
  {
   "cell_type": "markdown",
   "metadata": {},
   "source": [
    "    Now, we are able to build a DecisionTree classifier, we name the model trained as DTtree. It uses CART as the default   algorithm."
   ]
  },
  {
   "cell_type": "code",
   "execution_count": 11,
   "metadata": {},
   "outputs": [
    {
     "data": {
      "text/plain": [
       "DecisionTreeClassifier(class_weight=None, criterion='gini', max_depth=None,\n",
       "                       max_features=None, max_leaf_nodes=None,\n",
       "                       min_impurity_decrease=0.0, min_impurity_split=None,\n",
       "                       min_samples_leaf=1, min_samples_split=2,\n",
       "                       min_weight_fraction_leaf=0.0, presort=False,\n",
       "                       random_state=None, splitter='best')"
      ]
     },
     "execution_count": 11,
     "metadata": {},
     "output_type": "execute_result"
    }
   ],
   "source": [
    "from sklearn.tree import DecisionTreeClassifier\n",
    "DTtree = DecisionTreeClassifier()\n",
    "DTtree.fit(train_data.values, train_target.values)"
   ]
  },
  {
   "cell_type": "markdown",
   "metadata": {},
   "source": [
    "    Yes. We had bulit a model already. Let's test them and answer the questions for assignment.\n",
    "    \n",
    "### a. What is the accuracy of the classifier on the test data?\n",
    "    0.8172102450709416\n",
    "    It is got from the following function."
   ]
  },
  {
   "cell_type": "code",
   "execution_count": 12,
   "metadata": {},
   "outputs": [
    {
     "data": {
      "text/plain": [
       "0.8172102450709416"
      ]
     },
     "execution_count": 12,
     "metadata": {},
     "output_type": "execute_result"
    }
   ],
   "source": [
    "DTtree.score(test_data, test_target)"
   ]
  },
  {
   "cell_type": "markdown",
   "metadata": {},
   "source": [
    "### b. How many leaves are there in the generated tree?\n",
    "    5916\n",
    "    It is got from the following function."
   ]
  },
  {
   "cell_type": "code",
   "execution_count": 13,
   "metadata": {},
   "outputs": [
    {
     "data": {
      "text/plain": [
       "5916"
      ]
     },
     "execution_count": 13,
     "metadata": {},
     "output_type": "execute_result"
    }
   ],
   "source": [
    "DTtree.get_n_leaves()"
   ]
  },
  {
   "cell_type": "markdown",
   "metadata": {},
   "source": [
    "### c. Copy and paste the confusion matrix\n",
    "    Although we can easily get the confusion matrix from sklearn, it could be presented as a narray rather than a diagram. It is not a nice method to observe by us. So we need to use the matplotlib library to get a directly visible chart."
   ]
  },
  {
   "cell_type": "code",
   "execution_count": 14,
   "metadata": {},
   "outputs": [],
   "source": [
    "from sklearn.metrics import confusion_matrix\n",
    "#Get the confusion matrix as narray\n",
    "y_pred = DTtree.predict(test_data)\n",
    "y_true = test_target\n",
    "cm=confusion_matrix(y_true, y_pred)"
   ]
  },
  {
   "cell_type": "markdown",
   "metadata": {},
   "source": [
    "    Because there is not a function that could be imported directly,we need to bulid our own function to dram a diagram for confusion matrix. The following function is altered based on an open source function in scikit-learn official Github."
   ]
  },
  {
   "cell_type": "code",
   "execution_count": 15,
   "metadata": {},
   "outputs": [],
   "source": [
    "import itertools\n",
    "import matplotlib.pyplot as plt\n",
    "def plot_confusion_matrix(cm, classes,\n",
    "                          normalize=False,\n",
    "                          title='Confusion matrix',\n",
    "                          cmap=plt.cm.Blues):\n",
    "    \"\"\"\n",
    "    This function prints and plots the confusion matrix.\n",
    "    Normalization can be applied by setting `normalize=True`.\n",
    "    \"\"\"\n",
    "    if normalize:\n",
    "        cm = cm.astype('float') / cm.sum(axis=1)[:, np.newaxis]\n",
    "        print(\"Normalized confusion matrix\")\n",
    "    else:\n",
    "        print('Confusion matrix, without normalization')\n",
    "\n",
    "    print(cm)\n",
    "\n",
    "    plt.imshow(cm, interpolation='nearest', cmap=cmap)\n",
    "    plt.title(title)\n",
    "    plt.colorbar()\n",
    "    tick_marks = np.arange(len(classes))\n",
    "    plt.xticks(tick_marks, classes, rotation=45)\n",
    "    plt.yticks(tick_marks, classes)\n",
    "\n",
    "    fmt = '.2f' if normalize else 'd'\n",
    "    thresh = cm.max() / 2.\n",
    "    for i, j in itertools.product(range(cm.shape[0]), range(cm.shape[1])):\n",
    "        if (i==0 and j==0) or (i==0 and j==1):\n",
    "            plt.text(j, i+0.2, format(cm[i, j], fmt),\n",
    "                     horizontalalignment=\"center\",\n",
    "                     verticalalignment='center',\n",
    "                     color=\"white\" if cm[i, j] > thresh else \"black\")\n",
    "        else:\n",
    "            plt.text(j, i-0.2, format(cm[i, j], fmt),\n",
    "                     horizontalalignment=\"center\",\n",
    "                     verticalalignment='center',\n",
    "                     color=\"white\" if cm[i, j] > thresh else \"black\")\n",
    "\n",
    "    plt.ylabel('True label')\n",
    "    plt.xlabel('Predicted label')\n",
    "    plt.tight_layout()\n"
   ]
  },
  {
   "cell_type": "code",
   "execution_count": 16,
   "metadata": {},
   "outputs": [
    {
     "name": "stdout",
     "output_type": "stream",
     "text": [
      "Confusion matrix, without normalization\n",
      "[[10889  1445]\n",
      " [ 1531  2416]]\n"
     ]
    },
    {
     "data": {
      "image/png": "[encoded data removed]",
      "text/plain": [
       "<Figure size 432x288 with 2 Axes>"
      ]
     },
     "metadata": {
      "needs_background": "light"
     },
     "output_type": "display_data"
    }
   ],
   "source": [
    "plt.figure()\n",
    "plot_confusion_matrix(cm, classes=[0,1],\n",
    "                      title='Confusion matrix')"
   ]
  },
  {
   "cell_type": "markdown",
   "metadata": {},
   "source": [
    "## 3. Rerun the same experiment (i.e., build and evaluate a decision tree), but this time use 10-fold cross validation. Report the accuracy of the experiment over the 10 runs. (6 points)"
   ]
  },
  {
   "cell_type": "markdown",
   "metadata": {},
   "source": [
    "    Let's start our 10-fold cross validation via the cross_val_score function from scikit-learn. And the accuracy of the    prediction is showed 10 times below."
   ]
  },
  {
   "cell_type": "code",
   "execution_count": 17,
   "metadata": {},
   "outputs": [
    {
     "data": {
      "text/plain": [
       "array([0.82161498, 0.81019656, 0.81633907, 0.81511057, 0.8227887 ,\n",
       "       0.81910319, 0.81296069, 0.81910319, 0.82585995, 0.81726044])"
      ]
     },
     "execution_count": 17,
     "metadata": {},
     "output_type": "execute_result"
    }
   ],
   "source": [
    "from sklearn.model_selection import cross_val_score\n",
    "DTtree2 = DecisionTreeClassifier()\n",
    "cross_val_score(DTtree2, train_data.values,train_target.values, cv=10)"
   ]
  },
  {
   "cell_type": "code",
   "execution_count": 18,
   "metadata": {},
   "outputs": [
    {
     "data": {
      "text/plain": [
       "DecisionTreeClassifier(class_weight=None, criterion='gini', max_depth=None,\n",
       "                       max_features=None, max_leaf_nodes=None,\n",
       "                       min_impurity_decrease=0.0, min_impurity_split=None,\n",
       "                       min_samples_leaf=1, min_samples_split=2,\n",
       "                       min_weight_fraction_leaf=0.0, presort=False,\n",
       "                       random_state=None, splitter='best')"
      ]
     },
     "execution_count": 18,
     "metadata": {},
     "output_type": "execute_result"
    }
   ],
   "source": [
    "DTtree2.fit(train_data.values, train_target.values)"
   ]
  },
  {
   "cell_type": "markdown",
   "metadata": {},
   "source": [
    "### Report the accuracy of the experiment over the 10 runs.\n",
    "    0.8177016153798907\n",
    "    \n",
    "    It is got from the following function."
   ]
  },
  {
   "cell_type": "code",
   "execution_count": 19,
   "metadata": {},
   "outputs": [
    {
     "data": {
      "text/plain": [
       "0.8177016153798907"
      ]
     },
     "execution_count": 19,
     "metadata": {},
     "output_type": "execute_result"
    }
   ],
   "source": [
    "DTtree2.score(test_data.values, test_target.values)"
   ]
  },
  {
   "cell_type": "markdown",
   "metadata": {},
   "source": [
    "## 4. Repeat question 2 (i.e., use a 2/3, 1/3 split), but this time modify one of the default decision tree parameters. Describe the change that you made and then answer the three questions (a, b, c) from Question 2. Comment on any differences. (6 points)"
   ]
  },
  {
   "cell_type": "markdown",
   "metadata": {},
   "source": [
    "    Next, we decide to limit the minimum number of samples required to be at a leaf node, so that actually the number of leaf nodes will be reduced. We ask the minimum numberof samples should be never less than 10, and build the classifier again."
   ]
  },
  {
   "cell_type": "code",
   "execution_count": 20,
   "metadata": {},
   "outputs": [
    {
     "data": {
      "text/plain": [
       "DecisionTreeClassifier(class_weight=None, criterion='gini', max_depth=None,\n",
       "                       max_features=None, max_leaf_nodes=None,\n",
       "                       min_impurity_decrease=0.0, min_impurity_split=None,\n",
       "                       min_samples_leaf=1, min_samples_split=10,\n",
       "                       min_weight_fraction_leaf=0.0, presort=False,\n",
       "                       random_state=None, splitter='best')"
      ]
     },
     "execution_count": 20,
     "metadata": {},
     "output_type": "execute_result"
    }
   ],
   "source": [
    "DTtree3 = DecisionTreeClassifier(min_samples_split=10)\n",
    "DTtree3.fit(train_data.values, train_target.values)"
   ]
  },
  {
   "cell_type": "markdown",
   "metadata": {},
   "source": [
    "### a. What is the accuracy of the classifier on the test data?\n",
    "    0.8334868865548799\n",
    "    \n",
    "    It is got from the following function.\n",
    "    \n",
    "    Wow, it looks better than the original model with default parameters, which got the accuracy of 0.8169031386278484. We  suppose that the limit may lead to avoid overfiting by so-called pruning in some ways, so that the performance become   better on testing data. "
   ]
  },
  {
   "cell_type": "code",
   "execution_count": 21,
   "metadata": {},
   "outputs": [
    {
     "data": {
      "text/plain": [
       "0.8334868865548799"
      ]
     },
     "execution_count": 21,
     "metadata": {},
     "output_type": "execute_result"
    }
   ],
   "source": [
    "DTtree3.score(test_data, test_target)"
   ]
  },
  {
   "cell_type": "markdown",
   "metadata": {},
   "source": [
    "### b. How many leaves are there in the generated tree?\n",
    "    3184\n",
    "    \n",
    "    It is got from the following function.\n",
    "    \n",
    "    Actually, compared to the leaves' number of the original model, the leaves here have been reduced for our limit strategy for pruning the tree."
   ]
  },
  {
   "cell_type": "code",
   "execution_count": 22,
   "metadata": {},
   "outputs": [
    {
     "data": {
      "text/plain": [
       "3184"
      ]
     },
     "execution_count": 22,
     "metadata": {},
     "output_type": "execute_result"
    }
   ],
   "source": [
    "DTtree3.get_n_leaves()"
   ]
  },
  {
   "cell_type": "markdown",
   "metadata": {},
   "source": [
    "    Finally, let's get the confusion matrix. It shows than the new one get better recall rate and precision rate as well than the original model."
   ]
  },
  {
   "cell_type": "markdown",
   "metadata": {},
   "source": [
    "### c. Copy and paste the confusion matrix"
   ]
  },
  {
   "cell_type": "code",
   "execution_count": 23,
   "metadata": {},
   "outputs": [
    {
     "name": "stdout",
     "output_type": "stream",
     "text": [
      "Confusion matrix, without normalization\n",
      "[[11196  1138]\n",
      " [ 1573  2374]]\n"
     ]
    },
    {
     "data": {
      "image/png": "[encoded data removed]",
      "text/plain": [
       "<Figure size 432x288 with 2 Axes>"
      ]
     },
     "metadata": {
      "needs_background": "light"
     },
     "output_type": "display_data"
    }
   ],
   "source": [
    "y_pred3 = DTtree3.predict(test_data)\n",
    "y_true = test_target\n",
    "cm3=confusion_matrix(y_true, y_pred3)\n",
    "plot_confusion_matrix(cm3, classes=[0,1],\n",
    "                      title='Confusion matrix')"
   ]
  },
  {
   "cell_type": "markdown",
   "metadata": {},
   "source": [
    "## 5. Repeat question 2, but this time execute the Random Forest algorithm rather than a regular decision tree algorithm. Specify how many trees are generated in the Random Forest. Report the answers to parts a and c, from question 2. Then compare the results to the results when using the decision tree algorithm. (6 points)"
   ]
  },
  {
   "cell_type": "code",
   "execution_count": 24,
   "metadata": {},
   "outputs": [],
   "source": [
    "from sklearn.ensemble import RandomForestClassifier"
   ]
  },
  {
   "cell_type": "code",
   "execution_count": 25,
   "metadata": {},
   "outputs": [],
   "source": [
    "rf = RandomForestClassifier()"
   ]
  },
  {
   "cell_type": "code",
   "execution_count": 26,
   "metadata": {},
   "outputs": [
    {
     "name": "stderr",
     "output_type": "stream",
     "text": [
      "D:\\Anacoda3\\lib\\site-packages\\sklearn\\ensemble\\forest.py:245: FutureWarning: The default value of n_estimators will change from 10 in version 0.20 to 100 in 0.22.\n",
      "  \"10 in version 0.20 to 100 in 0.22.\", FutureWarning)\n",
      "D:\\Anacoda3\\lib\\site-packages\\ipykernel_launcher.py:1: DataConversionWarning: A column-vector y was passed when a 1d array was expected. Please change the shape of y to (n_samples,), for example using ravel().\n",
      "  \"\"\"Entry point for launching an IPython kernel.\n"
     ]
    },
    {
     "data": {
      "text/plain": [
       "RandomForestClassifier(bootstrap=True, class_weight=None, criterion='gini',\n",
       "                       max_depth=None, max_features='auto', max_leaf_nodes=None,\n",
       "                       min_impurity_decrease=0.0, min_impurity_split=None,\n",
       "                       min_samples_leaf=1, min_samples_split=2,\n",
       "                       min_weight_fraction_leaf=0.0, n_estimators=10,\n",
       "                       n_jobs=None, oob_score=False, random_state=None,\n",
       "                       verbose=0, warm_start=False)"
      ]
     },
     "execution_count": 26,
     "metadata": {},
     "output_type": "execute_result"
    }
   ],
   "source": [
    "rf.fit(train_data.values, train_target.values)"
   ]
  },
  {
   "cell_type": "markdown",
   "metadata": {},
   "source": [
    "### a. What is the accuracy of the classifier on the test data?\n",
    "    0.844419875928997\n",
    "    \n",
    "    It is got from the following function.\n",
    "    \n",
    "    The accuracy of random forest classifier is better than decision tree classifier apparently. The original decision tree had accuracy of 0.8172102450709416, even if we use 10-fold cross validation or altering the default parameter, the decision tree model had accuracy of 0.8177016153798907 and 0.8334868865548799, lower than random forest."
   ]
  },
  {
   "cell_type": "code",
   "execution_count": 27,
   "metadata": {},
   "outputs": [
    {
     "data": {
      "text/plain": [
       "0.844419875928997"
      ]
     },
     "execution_count": 27,
     "metadata": {},
     "output_type": "execute_result"
    }
   ],
   "source": [
    "rf.score(test_data, test_target)"
   ]
  },
  {
   "cell_type": "markdown",
   "metadata": {},
   "source": [
    "### c. Copy and paste the confusion matrix"
   ]
  },
  {
   "cell_type": "code",
   "execution_count": 28,
   "metadata": {},
   "outputs": [
    {
     "name": "stdout",
     "output_type": "stream",
     "text": [
      "Confusion matrix, without normalization\n",
      "[[11393   941]\n",
      " [ 1592  2355]]\n"
     ]
    },
    {
     "data": {
      "image/png": "[encoded data removed]",
      "text/plain": [
       "<Figure size 432x288 with 2 Axes>"
      ]
     },
     "metadata": {
      "needs_background": "light"
     },
     "output_type": "display_data"
    }
   ],
   "source": [
    "y_pred4 = rf.predict(test_data)\n",
    "y_true = test_target\n",
    "cm4=confusion_matrix(y_true, y_pred4)\n",
    "plot_confusion_matrix(cm4, classes=[0,1],\n",
    "                      title='Confusion matrix')"
   ]
  },
  {
   "cell_type": "markdown",
   "metadata": {},
   "source": [
    "    However, according to the confusion matrix, we observed that the random forest model has higher recall rate of class 0, which is income less than 50k, but the recall rate of class 1 perform similar with decision tree."
   ]
  },
  {
   "cell_type": "markdown",
   "metadata": {},
   "source": [
    "## 6. Change the class variable to “sex” and build a decision tree classifier to predict sex. (In Weka you can do this by using the “Classify” tab to select J48, as usual, and then go to the left column to the button under the “More Option …” and manually change the class/target variable from “class” to “(Nom) sex)”. Repeat question 2 and answer parts a, b, and c. Then answer the following additional questions: (6 points):"
   ]
  },
  {
   "cell_type": "markdown",
   "metadata": {},
   "source": [
    "    Firstly, we should revise our target variable and split the set into training set and testing set again."
   ]
  },
  {
   "cell_type": "code",
   "execution_count": 29,
   "metadata": {},
   "outputs": [],
   "source": [
    "cols2 = df_copy.columns.values.tolist()\n",
    "cols_t2 = [\"sex\"]\n",
    "cols2.remove(cols_t2[0])\n",
    "\n",
    "train_data2,test_data2,train_target2,test_target2 = train_test_split(df_copy[cols2], df_copy[cols_t2], test_size = (1/3))"
   ]
  },
  {
   "cell_type": "markdown",
   "metadata": {},
   "source": [
    "    Now, we can build our new decision tree model based on our revised dataset."
   ]
  },
  {
   "cell_type": "code",
   "execution_count": 30,
   "metadata": {},
   "outputs": [
    {
     "data": {
      "text/plain": [
       "DecisionTreeClassifier(class_weight=None, criterion='gini', max_depth=None,\n",
       "                       max_features=None, max_leaf_nodes=None,\n",
       "                       min_impurity_decrease=0.0, min_impurity_split=None,\n",
       "                       min_samples_leaf=1, min_samples_split=2,\n",
       "                       min_weight_fraction_leaf=0.0, presort=False,\n",
       "                       random_state=None, splitter='best')"
      ]
     },
     "execution_count": 30,
     "metadata": {},
     "output_type": "execute_result"
    }
   ],
   "source": [
    "DTtree4 = DecisionTreeClassifier()\n",
    "DTtree4.fit(train_data2.values, train_target2.values)"
   ]
  },
  {
   "cell_type": "markdown",
   "metadata": {},
   "source": [
    "### a. What is the accuracy of the classifier on the test data?\n",
    "    The accuracy of the model looks good. It achieves 0.8058473066764941."
   ]
  },
  {
   "cell_type": "code",
   "execution_count": 31,
   "metadata": {},
   "outputs": [
    {
     "data": {
      "text/plain": [
       "0.8058473066764941"
      ]
     },
     "execution_count": 31,
     "metadata": {},
     "output_type": "execute_result"
    }
   ],
   "source": [
    "DTtree4.score(test_data2,test_target2)"
   ]
  },
  {
   "cell_type": "markdown",
   "metadata": {},
   "source": [
    "### b. How many leaves are there in the generated tree?\n",
    "    5691"
   ]
  },
  {
   "cell_type": "code",
   "execution_count": 32,
   "metadata": {},
   "outputs": [
    {
     "data": {
      "text/plain": [
       "5691"
      ]
     },
     "execution_count": 32,
     "metadata": {},
     "output_type": "execute_result"
    }
   ],
   "source": [
    "DTtree4.get_n_leaves()"
   ]
  },
  {
   "cell_type": "markdown",
   "metadata": {},
   "source": [
    "### c. Copy and paste the confusion matrix"
   ]
  },
  {
   "cell_type": "code",
   "execution_count": 33,
   "metadata": {},
   "outputs": [
    {
     "name": "stdout",
     "output_type": "stream",
     "text": [
      "Confusion matrix, without normalization\n",
      "[[3869 1568]\n",
      " [1593 9251]]\n"
     ]
    },
    {
     "data": {
      "image/png": "[encoded data removed]",
      "text/plain": [
       "<Figure size 432x288 with 2 Axes>"
      ]
     },
     "metadata": {
      "needs_background": "light"
     },
     "output_type": "display_data"
    }
   ],
   "source": [
    "y_pred5 = DTtree4.predict(test_data2)\n",
    "y_true2 = test_target2\n",
    "cm5=confusion_matrix(y_true2, y_pred5)\n",
    "plot_confusion_matrix(cm5, classes=[0,1],\n",
    "                      title='Confusion matrix')"
   ]
  },
  {
   "cell_type": "markdown",
   "metadata": {},
   "source": [
    "### a) Based on the results in the confusion matrix, specify the number of females and males in the test set as counts (whole numbers) and as percentages. (1 point)"
   ]
  },
  {
   "cell_type": "markdown",
   "metadata": {},
   "source": [
    "    N(female) = 4975+366 = 5437\n",
    "    N(male) = 7457+3483 = 10844\n",
    "    P(female) = 5437/(5437+10844) = 0.3339 = 33.39%\n",
    "    P(male) = 10844/(5437+10844) = 0.6661 = 66.61%"
   ]
  },
  {
   "cell_type": "markdown",
   "metadata": {},
   "source": [
    "### b) If you had to build a simple classifier to always guess the most common sex, what would the accuracy of the classifier be? (1 point)"
   ]
  },
  {
   "cell_type": "markdown",
   "metadata": {},
   "source": [
    "    Accuracy = 10844/(10844+5437+0+0) = 0.6661 = 66.61%"
   ]
  },
  {
   "cell_type": "markdown",
   "metadata": {},
   "source": [
    "### c) Carefully examine the induced decision tree, and the attributes involved, and state why the high accuracy results are almost completely meaningless. What is the problem? (2 points)"
   ]
  },
  {
   "cell_type": "markdown",
   "metadata": {},
   "source": [
    "    Firstly, let's focus on the precision and recall rate. Actually, the rates of class 0, female, are greatly lower than those of class 1, male. Meanwhile, the number of female instances is also significantly lower than the number of male instances, it may lead to data imbalance."
   ]
  },
  {
   "cell_type": "code",
   "execution_count": 34,
   "metadata": {},
   "outputs": [
    {
     "name": "stdout",
     "output_type": "stream",
     "text": [
      "              precision    recall  f1-score   support\n",
      "\n",
      "           0       0.71      0.71      0.71      5437\n",
      "           1       0.86      0.85      0.85     10844\n",
      "\n",
      "    accuracy                           0.81     16281\n",
      "   macro avg       0.78      0.78      0.78     16281\n",
      "weighted avg       0.81      0.81      0.81     16281\n",
      "\n"
     ]
    }
   ],
   "source": [
    "from sklearn.metrics import classification_report\n",
    "\n",
    "print(classification_report(y_true2, y_pred5))"
   ]
  },
  {
   "cell_type": "markdown",
   "metadata": {},
   "source": [
    "    Next, we will review the original dataset and these attributes involved in building model."
   ]
  },
  {
   "cell_type": "code",
   "execution_count": 35,
   "metadata": {},
   "outputs": [
    {
     "data": {
      "text/html": [
       "<div>\n",
       "<style scoped>\n",
       "    .dataframe tbody tr th:only-of-type {\n",
       "        vertical-align: middle;\n",
       "    }\n",
       "\n",
       "    .dataframe tbody tr th {\n",
       "        vertical-align: top;\n",
       "    }\n",
       "\n",
       "    .dataframe thead th {\n",
       "        text-align: right;\n",
       "    }\n",
       "</style>\n",
       "<table border=\"1\" class=\"dataframe\">\n",
       "  <thead>\n",
       "    <tr style=\"text-align: right;\">\n",
       "      <th></th>\n",
       "      <th></th>\n",
       "      <th>age</th>\n",
       "      <th>workclass</th>\n",
       "      <th>education</th>\n",
       "      <th>education-num</th>\n",
       "      <th>marital-status</th>\n",
       "      <th>occupation</th>\n",
       "      <th>race</th>\n",
       "      <th>capital-gain</th>\n",
       "      <th>capital-loss</th>\n",
       "      <th>hours-per-week</th>\n",
       "      <th>native-country</th>\n",
       "      <th>income</th>\n",
       "    </tr>\n",
       "    <tr>\n",
       "      <th>relationship</th>\n",
       "      <th>sex</th>\n",
       "      <th></th>\n",
       "      <th></th>\n",
       "      <th></th>\n",
       "      <th></th>\n",
       "      <th></th>\n",
       "      <th></th>\n",
       "      <th></th>\n",
       "      <th></th>\n",
       "      <th></th>\n",
       "      <th></th>\n",
       "      <th></th>\n",
       "      <th></th>\n",
       "    </tr>\n",
       "  </thead>\n",
       "  <tbody>\n",
       "    <tr>\n",
       "      <th rowspan=\"2\" valign=\"top\">Husband</th>\n",
       "      <th>Female</th>\n",
       "      <td>1</td>\n",
       "      <td>1</td>\n",
       "      <td>1</td>\n",
       "      <td>1</td>\n",
       "      <td>1</td>\n",
       "      <td>1</td>\n",
       "      <td>1</td>\n",
       "      <td>1</td>\n",
       "      <td>1</td>\n",
       "      <td>1</td>\n",
       "      <td>1</td>\n",
       "      <td>1</td>\n",
       "    </tr>\n",
       "    <tr>\n",
       "      <th>Male</th>\n",
       "      <td>19715</td>\n",
       "      <td>19715</td>\n",
       "      <td>19715</td>\n",
       "      <td>19715</td>\n",
       "      <td>19715</td>\n",
       "      <td>19715</td>\n",
       "      <td>19715</td>\n",
       "      <td>19715</td>\n",
       "      <td>19715</td>\n",
       "      <td>19715</td>\n",
       "      <td>19715</td>\n",
       "      <td>19715</td>\n",
       "    </tr>\n",
       "    <tr>\n",
       "      <th rowspan=\"2\" valign=\"top\">Not-in-family</th>\n",
       "      <th>Female</th>\n",
       "      <td>5870</td>\n",
       "      <td>5870</td>\n",
       "      <td>5870</td>\n",
       "      <td>5870</td>\n",
       "      <td>5870</td>\n",
       "      <td>5870</td>\n",
       "      <td>5870</td>\n",
       "      <td>5870</td>\n",
       "      <td>5870</td>\n",
       "      <td>5870</td>\n",
       "      <td>5870</td>\n",
       "      <td>5870</td>\n",
       "    </tr>\n",
       "    <tr>\n",
       "      <th>Male</th>\n",
       "      <td>6713</td>\n",
       "      <td>6713</td>\n",
       "      <td>6713</td>\n",
       "      <td>6713</td>\n",
       "      <td>6713</td>\n",
       "      <td>6713</td>\n",
       "      <td>6713</td>\n",
       "      <td>6713</td>\n",
       "      <td>6713</td>\n",
       "      <td>6713</td>\n",
       "      <td>6713</td>\n",
       "      <td>6713</td>\n",
       "    </tr>\n",
       "    <tr>\n",
       "      <th rowspan=\"2\" valign=\"top\">Other-relative</th>\n",
       "      <th>Female</th>\n",
       "      <td>689</td>\n",
       "      <td>689</td>\n",
       "      <td>689</td>\n",
       "      <td>689</td>\n",
       "      <td>689</td>\n",
       "      <td>689</td>\n",
       "      <td>689</td>\n",
       "      <td>689</td>\n",
       "      <td>689</td>\n",
       "      <td>689</td>\n",
       "      <td>689</td>\n",
       "      <td>689</td>\n",
       "    </tr>\n",
       "    <tr>\n",
       "      <th>Male</th>\n",
       "      <td>817</td>\n",
       "      <td>817</td>\n",
       "      <td>817</td>\n",
       "      <td>817</td>\n",
       "      <td>817</td>\n",
       "      <td>817</td>\n",
       "      <td>817</td>\n",
       "      <td>817</td>\n",
       "      <td>817</td>\n",
       "      <td>817</td>\n",
       "      <td>817</td>\n",
       "      <td>817</td>\n",
       "    </tr>\n",
       "    <tr>\n",
       "      <th rowspan=\"2\" valign=\"top\">Own-child</th>\n",
       "      <th>Female</th>\n",
       "      <td>3376</td>\n",
       "      <td>3376</td>\n",
       "      <td>3376</td>\n",
       "      <td>3376</td>\n",
       "      <td>3376</td>\n",
       "      <td>3376</td>\n",
       "      <td>3376</td>\n",
       "      <td>3376</td>\n",
       "      <td>3376</td>\n",
       "      <td>3376</td>\n",
       "      <td>3376</td>\n",
       "      <td>3376</td>\n",
       "    </tr>\n",
       "    <tr>\n",
       "      <th>Male</th>\n",
       "      <td>4205</td>\n",
       "      <td>4205</td>\n",
       "      <td>4205</td>\n",
       "      <td>4205</td>\n",
       "      <td>4205</td>\n",
       "      <td>4205</td>\n",
       "      <td>4205</td>\n",
       "      <td>4205</td>\n",
       "      <td>4205</td>\n",
       "      <td>4205</td>\n",
       "      <td>4205</td>\n",
       "      <td>4205</td>\n",
       "    </tr>\n",
       "    <tr>\n",
       "      <th rowspan=\"2\" valign=\"top\">Unmarried</th>\n",
       "      <th>Female</th>\n",
       "      <td>3928</td>\n",
       "      <td>3928</td>\n",
       "      <td>3928</td>\n",
       "      <td>3928</td>\n",
       "      <td>3928</td>\n",
       "      <td>3928</td>\n",
       "      <td>3928</td>\n",
       "      <td>3928</td>\n",
       "      <td>3928</td>\n",
       "      <td>3928</td>\n",
       "      <td>3928</td>\n",
       "      <td>3928</td>\n",
       "    </tr>\n",
       "    <tr>\n",
       "      <th>Male</th>\n",
       "      <td>1197</td>\n",
       "      <td>1197</td>\n",
       "      <td>1197</td>\n",
       "      <td>1197</td>\n",
       "      <td>1197</td>\n",
       "      <td>1197</td>\n",
       "      <td>1197</td>\n",
       "      <td>1197</td>\n",
       "      <td>1197</td>\n",
       "      <td>1197</td>\n",
       "      <td>1197</td>\n",
       "      <td>1197</td>\n",
       "    </tr>\n",
       "    <tr>\n",
       "      <th rowspan=\"2\" valign=\"top\">Wife</th>\n",
       "      <th>Female</th>\n",
       "      <td>2328</td>\n",
       "      <td>2328</td>\n",
       "      <td>2328</td>\n",
       "      <td>2328</td>\n",
       "      <td>2328</td>\n",
       "      <td>2328</td>\n",
       "      <td>2328</td>\n",
       "      <td>2328</td>\n",
       "      <td>2328</td>\n",
       "      <td>2328</td>\n",
       "      <td>2328</td>\n",
       "      <td>2328</td>\n",
       "    </tr>\n",
       "    <tr>\n",
       "      <th>Male</th>\n",
       "      <td>3</td>\n",
       "      <td>3</td>\n",
       "      <td>3</td>\n",
       "      <td>3</td>\n",
       "      <td>3</td>\n",
       "      <td>3</td>\n",
       "      <td>3</td>\n",
       "      <td>3</td>\n",
       "      <td>3</td>\n",
       "      <td>3</td>\n",
       "      <td>3</td>\n",
       "      <td>3</td>\n",
       "    </tr>\n",
       "  </tbody>\n",
       "</table>\n",
       "</div>"
      ],
      "text/plain": [
       "                         age  workclass  education  education-num  \\\n",
       "relationship   sex                                                  \n",
       "Husband        Female      1          1          1              1   \n",
       "               Male    19715      19715      19715          19715   \n",
       "Not-in-family  Female   5870       5870       5870           5870   \n",
       "               Male     6713       6713       6713           6713   \n",
       "Other-relative Female    689        689        689            689   \n",
       "               Male      817        817        817            817   \n",
       "Own-child      Female   3376       3376       3376           3376   \n",
       "               Male     4205       4205       4205           4205   \n",
       "Unmarried      Female   3928       3928       3928           3928   \n",
       "               Male     1197       1197       1197           1197   \n",
       "Wife           Female   2328       2328       2328           2328   \n",
       "               Male        3          3          3              3   \n",
       "\n",
       "                       marital-status  occupation   race  capital-gain  \\\n",
       "relationship   sex                                                       \n",
       "Husband        Female               1           1      1             1   \n",
       "               Male             19715       19715  19715         19715   \n",
       "Not-in-family  Female            5870        5870   5870          5870   \n",
       "               Male              6713        6713   6713          6713   \n",
       "Other-relative Female             689         689    689           689   \n",
       "               Male               817         817    817           817   \n",
       "Own-child      Female            3376        3376   3376          3376   \n",
       "               Male              4205        4205   4205          4205   \n",
       "Unmarried      Female            3928        3928   3928          3928   \n",
       "               Male              1197        1197   1197          1197   \n",
       "Wife           Female            2328        2328   2328          2328   \n",
       "               Male                 3           3      3             3   \n",
       "\n",
       "                       capital-loss  hours-per-week  native-country  income  \n",
       "relationship   sex                                                           \n",
       "Husband        Female             1               1               1       1  \n",
       "               Male           19715           19715           19715   19715  \n",
       "Not-in-family  Female          5870            5870            5870    5870  \n",
       "               Male            6713            6713            6713    6713  \n",
       "Other-relative Female           689             689             689     689  \n",
       "               Male             817             817             817     817  \n",
       "Own-child      Female          3376            3376            3376    3376  \n",
       "               Male            4205            4205            4205    4205  \n",
       "Unmarried      Female          3928            3928            3928    3928  \n",
       "               Male            1197            1197            1197    1197  \n",
       "Wife           Female          2328            2328            2328    2328  \n",
       "               Male               3               3               3       3  "
      ]
     },
     "execution_count": 35,
     "metadata": {},
     "output_type": "execute_result"
    }
   ],
   "source": [
    "df.groupby([\"relationship\",\"sex\"]).count()"
   ]
  },
  {
   "cell_type": "markdown",
   "metadata": {},
   "source": [
    "    Oh, we find that there is an interesting attribute named \"relationship\". Generally in our society, the husband in a family is usually a male, and the wife in a family is usually a female. The distribution of them in our dataset present the case as well. Hence, based on the attribute \"relationship\", which is significantly related to the target class itself, the model can easily predict the class of the most instances.\n",
    "    \n",
    "    If we remove the \"relationship\" attribute and build the model again, we can review the performance to see whether it is supported."
   ]
  },
  {
   "cell_type": "code",
   "execution_count": 36,
   "metadata": {},
   "outputs": [],
   "source": [
    "train_data3 = train_data2.drop('relationship',axis=1)\n",
    "test_data3 = test_data2.drop('relationship',axis=1)\n",
    "train_target3=train_target2\n",
    "test_target3=test_target2"
   ]
  },
  {
   "cell_type": "code",
   "execution_count": 37,
   "metadata": {},
   "outputs": [
    {
     "data": {
      "text/plain": [
       "DecisionTreeClassifier(class_weight=None, criterion='gini', max_depth=None,\n",
       "                       max_features=None, max_leaf_nodes=None,\n",
       "                       min_impurity_decrease=0.0, min_impurity_split=None,\n",
       "                       min_samples_leaf=1, min_samples_split=2,\n",
       "                       min_weight_fraction_leaf=0.0, presort=False,\n",
       "                       random_state=None, splitter='best')"
      ]
     },
     "execution_count": 37,
     "metadata": {},
     "output_type": "execute_result"
    }
   ],
   "source": [
    "DTtree5 = DecisionTreeClassifier()\n",
    "DTtree5.fit(train_data3.values, train_target3.values)"
   ]
  },
  {
   "cell_type": "code",
   "execution_count": 38,
   "metadata": {},
   "outputs": [
    {
     "data": {
      "text/plain": [
       "0.7367483569805294"
      ]
     },
     "execution_count": 38,
     "metadata": {},
     "output_type": "execute_result"
    }
   ],
   "source": [
    "DTtree5.score(test_data3,test_target3)"
   ]
  },
  {
   "cell_type": "markdown",
   "metadata": {},
   "source": [
    "    Obviously, the accuracy of the model cannot perform good as well.\n",
    "    \n",
    "    What about other index, like recall rate and precision rate?"
   ]
  },
  {
   "cell_type": "code",
   "execution_count": 39,
   "metadata": {},
   "outputs": [
    {
     "name": "stdout",
     "output_type": "stream",
     "text": [
      "Confusion matrix, without normalization\n",
      "[[3438 1999]\n",
      " [2287 8557]]\n"
     ]
    },
    {
     "data": {
      "image/png": "[encoded data removed]",
      "text/plain": [
       "<Figure size 432x288 with 2 Axes>"
      ]
     },
     "metadata": {
      "needs_background": "light"
     },
     "output_type": "display_data"
    }
   ],
   "source": [
    "y_pred6 = DTtree5.predict(test_data3)\n",
    "y_true3 = test_target3\n",
    "cm6=confusion_matrix(y_true3, y_pred6)\n",
    "plot_confusion_matrix(cm6, classes=[0,1],\n",
    "                      title='Confusion matrix')"
   ]
  },
  {
   "cell_type": "code",
   "execution_count": 40,
   "metadata": {},
   "outputs": [
    {
     "name": "stdout",
     "output_type": "stream",
     "text": [
      "              precision    recall  f1-score   support\n",
      "\n",
      "           0       0.60      0.63      0.62      5437\n",
      "           1       0.81      0.79      0.80     10844\n",
      "\n",
      "    accuracy                           0.74     16281\n",
      "   macro avg       0.71      0.71      0.71     16281\n",
      "weighted avg       0.74      0.74      0.74     16281\n",
      "\n"
     ]
    }
   ],
   "source": [
    "print(classification_report(y_true3, y_pred6))"
   ]
  },
  {
   "cell_type": "markdown",
   "metadata": {},
   "source": [
    "    It shows that the precision and recall rates of class 0 are very bad. Combined with the data imbalance, we cannot use the model to predict the target variable of instances well.\n",
    "    \n",
    "    Given the above discussion, the high accuracy results of the original model are almost completely meaningless."
   ]
  }
 ],
 "metadata": {
  "kernelspec": {
   "display_name": "Python 3",
   "language": "python",
   "name": "python3"
  },
  "language_info": {
   "codemirror_mode": {
    "name": "ipython",
    "version": 3
   },
   "file_extension": ".py",
   "mimetype": "text/x-python",
   "name": "python",
   "nbconvert_exporter": "python",
   "pygments_lexer": "ipython3",
   "version": "3.7.4"
  }
 },
 "nbformat": 4,
 "nbformat_minor": 2
}
